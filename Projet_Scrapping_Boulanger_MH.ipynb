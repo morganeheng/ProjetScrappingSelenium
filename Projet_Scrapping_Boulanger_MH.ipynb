{
 "cells": [
  {
   "cell_type": "markdown",
   "metadata": {},
   "source": [
    "# Projet : Scrapping du site Boulanger"
   ]
  },
  {
   "cell_type": "markdown",
   "metadata": {},
   "source": [
    "Je vais scrapper le site boulanger pour récupérer les informations des ordinateurs portables i7  \n",
    "Les données que je vais récupérer sont  : \n",
    "- Titre\n",
    "- Note\n",
    "- Prix\n",
    "- Moniteur_Taille de l'écran\n",
    "- Moniteur_Equivalence\n",
    "- Moniteur_Résolution de l'écran\n",
    "- Logiciels_Système d'exploitation\n",
    "- Logiciels_Version\n",
    "- Processeur_Référence et spécificités\n",
    "- Mémoire vive_Capacité totale\n",
    "- Mémoire vive_Type\n",
    "- Stockage_Capacité du disque dur\n",
    "- Stockage_Port du disque dur\n",
    "- Stockage_Vitesse de rotation\n",
    "- Stockage_Capacité du SSD\n",
    "- Stockage_Port du SSD\n",
    "- Dimensions_Dimensions l x h x p\n",
    "- Dimensions_Poids\n",
    "- Carte vidéo_Carte"
   ]
  },
  {
   "cell_type": "markdown",
   "metadata": {},
   "source": [
    "Importation des librairies"
   ]
  },
  {
   "cell_type": "code",
   "execution_count": 1,
   "metadata": {},
   "outputs": [],
   "source": [
    "from selenium import webdriver\n",
    "from selenium.webdriver.common.keys import Keys\n",
    "from selenium.webdriver.common.action_chains import ActionChains\n",
    "import re\n",
    "import numpy as np\n",
    "import pandas as pd\n",
    "import time"
   ]
  },
  {
   "cell_type": "markdown",
   "metadata": {},
   "source": [
    "On ouvre la page web"
   ]
  },
  {
   "cell_type": "code",
   "execution_count": null,
   "metadata": {},
   "outputs": [],
   "source": [
    "browser = webdriver.Chrome()\n",
    "browser.get('https://www.boulanger.com/')"
   ]
  },
  {
   "cell_type": "markdown",
   "metadata": {},
   "source": [
    "Définition d'une fonction qui va produire un delai après chaque click, pour simuler une activité humaine"
   ]
  },
  {
   "cell_type": "code",
   "execution_count": null,
   "metadata": {},
   "outputs": [],
   "source": [
    "def generate_number_delay():\n",
    "    \"\"\"\n",
    "    Retourne un chiffre aléatoire suivant une distribution normal de moyenne 4 secondes et d'ecart-type de 0.8\n",
    "    Ce chiffre aléatoire est le délai après chaque clic. Le but est de simuler le comportement d'un humain :\n",
    "    un délai fixe peut attirer l'attention des contrôleurs, tout comme un délai aléatoire d'une distribution uniforme\n",
    "    \"\"\"\n",
    "    mean = 4\n",
    "    sigma = 0.8\n",
    "    delai = np.random.normal(mean,sigma,1)[0]\n",
    "    while delai < 0:\n",
    "        delai = np.random.normal(mean,sigma,1)[0]\n",
    "    time.sleep(delai)"
   ]
  },
  {
   "cell_type": "markdown",
   "metadata": {},
   "source": [
    "On aggrandi la fenêtre du navigateur"
   ]
  },
  {
   "cell_type": "code",
   "execution_count": null,
   "metadata": {},
   "outputs": [],
   "source": [
    "browser.maximize_window()"
   ]
  },
  {
   "cell_type": "markdown",
   "metadata": {},
   "source": [
    "On cherche l'input de la barre de recherche et on envoie le text à mettre dans l'input"
   ]
  },
  {
   "cell_type": "code",
   "execution_count": null,
   "metadata": {},
   "outputs": [],
   "source": [
    "search_input = browser.find_element_by_xpath('//*[@id=\"o-header_search_id\"]')\n",
    "search_input.send_keys(\"ordinateur portable\")"
   ]
  },
  {
   "cell_type": "markdown",
   "metadata": {},
   "source": [
    "On cherche le bouton recherche pour pouvoir cliquer dessus et envoyer notre requête.  \n",
    "On appelle la fonction generate_number_delay() pour mettre un temps t'attente après le click"
   ]
  },
  {
   "cell_type": "code",
   "execution_count": null,
   "metadata": {},
   "outputs": [],
   "source": [
    "search_button = browser.find_element_by_xpath('//*[@id=\"container\"]/header/section[2]/div[1]/section/form/p/button')\n",
    "search_button.click()\n",
    "generate_number_delay()"
   ]
  },
  {
   "cell_type": "markdown",
   "metadata": {},
   "source": [
    "On cherche a filtrer la recherche en cliquant sur le processeur Intel Core i7"
   ]
  },
  {
   "cell_type": "code",
   "execution_count": null,
   "metadata": {},
   "outputs": [],
   "source": [
    "filtre_i7 = browser.find_element_by_xpath('//*[@id=\"multi_facet_points_comparateurs_____processeur_3\"]/span[1]')\n",
    "filtre_i7.click()\n",
    "generate_number_delay()"
   ]
  },
  {
   "cell_type": "markdown",
   "metadata": {},
   "source": [
    "On stocke dans liste_desc_pc la liste des pc présent sur la page (30 par page)\n",
    "et on affiche le titre de chaque article pour vérifier que ça récupère ce qu'on veut"
   ]
  },
  {
   "cell_type": "code",
   "execution_count": null,
   "metadata": {
    "scrolled": true
   },
   "outputs": [],
   "source": [
    "liste_desc_pc = browser.find_elements_by_css_selector('div.designations h2 a')\n",
    "[titre.text for titre in liste_desc_pc]"
   ]
  },
  {
   "cell_type": "markdown",
   "metadata": {},
   "source": [
    "On créé une liste de caractéristique qu'on souhaite récupérer, puis on initialise un dictionnaire qui va contenir pour chaque caractéristique une liste de données"
   ]
  },
  {
   "cell_type": "code",
   "execution_count": null,
   "metadata": {
    "scrolled": true
   },
   "outputs": [],
   "source": [
    "characteristics_list = [\"Moniteur_Taille de l'écran\", \"Moniteur_Equivalence\", \"Moniteur_Résolution de l'écran\", \"Logiciels_Système d'exploitation\", \"Logiciels_Version\", \"Processeur_Référence et spécificités\", \"Mémoire vive_Capacité totale\", \"Mémoire vive_Type\", \"Stockage_Capacité du disque dur\", \"Stockage_Port du disque dur\", \"Stockage_Vitesse de rotation\", \"Stockage_Capacité du SSD\", \"Stockage_Port du SSD\", \"Dimensions_Dimensions l x h x p\", \"Dimensions_Poids\", \"Carte vidéo_Carte\"]\n",
    "dico = {}\n",
    "dico[\"Titre\"] = []\n",
    "dico[\"Note\"] = []\n",
    "dico[\"Prix\"] = []\n",
    "for characteristic in characteristics_list:\n",
    "    dico[characteristic] = []\n",
    "dico"
   ]
  },
  {
   "cell_type": "markdown",
   "metadata": {},
   "source": [
    "Dans next_page_class_list il y a une list de nom de class associé au bouton page suivante, lorsque cette liste contient la class \"navPage-inactive\", cela veut dire qu'on est arrivé à la dernière page.  \n",
    "Pour chaque page, on récupère la liste d'article, puis pour chaque article on recupère d'abord le titre qu'on va ajouter aux dictionnaire, puis on click sur l'article et on récupère les autres caractéristiques.  \n",
    "A chaque fois qu'on récupère un caractéristique on le supprime de la liste des caractéristiques (c_list) qu'on a copié au préalable, cela permet de gérer les données manquantes.  \n",
    "Après avoir ajouté toutes les caractéristiques dans le dictionnaire, si il reste des caractéristiques dans c_list cela veut dire qu'il y a des données manquantes, on les ajoutes donc dans le dictionnaire en tant que NaN."
   ]
  },
  {
   "cell_type": "code",
   "execution_count": null,
   "metadata": {},
   "outputs": [],
   "source": [
    "next_page_class_list = browser.find_element_by_class_name(\"navPage-right\").get_attribute(\"class\").split()\n",
    "while \"navPage-inactive\" not in next_page_class_list:\n",
    "    liste_desc_pc = browser.find_elements_by_css_selector('div.designations h2 a')\n",
    "    for i in range(len(liste_desc_pc)):\n",
    "        title = liste_desc_pc[i].text\n",
    "        dico[\"Titre\"].append(title)\n",
    "        liste_desc_pc[i].click()\n",
    "        generate_number_delay()\n",
    "        try:\n",
    "            rating = int(browser.find_element_by_class_name(\"rating\").get_attribute(\"class\").split()[2].split('_')[1]) * 0.1\n",
    "        except:\n",
    "            rating = np.nan\n",
    "        dico[\"Note\"].append(rating)\n",
    "        price = float(browser.find_element_by_class_name(\"fix-price\").text.split()[0].replace('€', '.'))\n",
    "        dico[\"Prix\"].append(price)\n",
    "        more = browser.find_element_by_class_name(\"more\")\n",
    "        more.click()\n",
    "        generate_number_delay()\n",
    "        characteristics = browser.find_element_by_class_name('characteristic').text\n",
    "        feature = \"\"\n",
    "        c_list = characteristics_list.copy()\n",
    "        for characteristic in characteristics.split(\"\\n\"):\n",
    "            characteristic = re.sub(' \\(.+\\)', '', characteristic)\n",
    "            if \":\" not in characteristic:\n",
    "                feature = characteristic\n",
    "            else :\n",
    "                key = (feature + \"_\" + characteristic).split(\":\")[0].strip()\n",
    "                value = (feature + \"_\" + characteristic).split(\":\")[1].strip()\n",
    "                if (key in c_list):\n",
    "                    dico[key].append(value)\n",
    "                    c_list.remove(key)\n",
    "        for c in c_list:\n",
    "            dico[c].append(np.nan)\n",
    "        browser.back()\n",
    "        liste_desc_pc = browser.find_elements_by_css_selector('div.designations h2 a')\n",
    "    next_page = browser.find_element_by_class_name(\"navPage-right\")\n",
    "    next_page_class_list = next_page.get_attribute(\"class\").split()\n",
    "    next_page.click()\n",
    "    generate_number_delay()"
   ]
  },
  {
   "cell_type": "code",
   "execution_count": null,
   "metadata": {
    "scrolled": true
   },
   "outputs": [],
   "source": [
    "dico"
   ]
  },
  {
   "cell_type": "markdown",
   "metadata": {},
   "source": [
    "On transforme notre dictionnaire en dataframe"
   ]
  },
  {
   "cell_type": "code",
   "execution_count": null,
   "metadata": {
    "scrolled": true
   },
   "outputs": [],
   "source": [
    "df = pd.DataFrame(dico)\n",
    "df"
   ]
  },
  {
   "cell_type": "markdown",
   "metadata": {},
   "source": [
    "On renomme les colonnes pour enlever les espaces, les accents et pour ajouter les unités"
   ]
  },
  {
   "cell_type": "code",
   "execution_count": null,
   "metadata": {
    "scrolled": false
   },
   "outputs": [],
   "source": [
    "df_rename = df.rename(index=str, columns={\"Moniteur_Taille de l'écran\" : \"Moniteur_Taille_ecran_(pouces)\", \\\n",
    "                                \"Moniteur_Equivalence\" : \"Moniteur_Equivalence_(cm)\", \\\n",
    "                                \"Moniteur_Résolution de l'écran\" : \"Moniteur_Resolution_ecran_(pixels)\", \\\n",
    "                                \"Logiciels_Système d'exploitation\" : \"Logiciels_Systeme_exploitation\", \\\n",
    "                                \"Logiciels_Version\" : \"Logiciels_Version_(Bits)\", \\\n",
    "                                \"Processeur_Référence et spécificités\" : \"Processeur_Reference\", \\\n",
    "                                \"Mémoire vive_Capacité totale\" : \"Memoire_vive_Capacite_totale_(Go)\", \\\n",
    "                                \"Mémoire vive_Type\" : \"Memoire_vive_Type\", \\\n",
    "                                \"Stockage_Capacité du disque dur\" : \"Stockage_Capacite_disque_dur_(Go)\", \\\n",
    "                                \"Stockage_Port du disque dur\" : \"Stockage_Port_disque_dur\", \\\n",
    "                                \"Stockage_Vitesse de rotation\" : \"Stockage_Vitesse_rotation(tours/min)\", \\\n",
    "                                \"Stockage_Capacité du SSD\" : \"Stockage_Capacite_SSD_(Go)\", \\\n",
    "                                \"Stockage_Port du SSD\" : \"Stockage_Port_SSD\", \\\n",
    "                                \"Dimensions_Dimensions l x h x p\" : \"Dimensions_l_x_h_x_p_(cm)\", \\\n",
    "                                \"Dimensions_Poids\" : \"Dimensions_Poids_(g)\", \\\n",
    "                                \"Carte vidéo_Carte\" : \"Carte_video\"})\n",
    "df_rename.head(1)"
   ]
  },
  {
   "cell_type": "markdown",
   "metadata": {},
   "source": [
    "On transforme les données en numerique et on enlève les unités"
   ]
  },
  {
   "cell_type": "code",
   "execution_count": null,
   "metadata": {
    "scrolled": true
   },
   "outputs": [],
   "source": [
    "def clean_data(row):\n",
    "    row_cleaned = row\n",
    "    if str(row[\"Moniteur_Taille_ecran_(pouces)\"]) != \"nan\":\n",
    "        row_cleaned[\"Moniteur_Taille_ecran_(pouces)\"] = float(row[\"Moniteur_Taille_ecran_(pouces)\"].replace(\" pouces\", \"\").replace(\",\", \".\"))\n",
    "    if str(row[\"Moniteur_Equivalence_(cm)\"]) != \"nan\":\n",
    "        row_cleaned[\"Moniteur_Equivalence_(cm)\"] = float(row[\"Moniteur_Equivalence_(cm)\"].replace(\" cm\", \"\").replace(\",\", \".\"))\n",
    "    if str(row[\"Moniteur_Resolution_ecran_(pixels)\"]) != \"nan\":\n",
    "        row_cleaned[\"Moniteur_Resolution_ecran_(pixels)\"] = row[\"Moniteur_Resolution_ecran_(pixels)\"].replace(\" pixels\", \"\")\n",
    "    if str(row[\"Logiciels_Version_(Bits)\"]) != \"nan\":\n",
    "        row_cleaned[\"Logiciels_Version_(Bits)\"] = int(row[\"Logiciels_Version_(Bits)\"].replace(\" Bits\", \"\"))\n",
    "    if str(row[\"Memoire_vive_Capacite_totale_(Go)\"]) != \"nan\":\n",
    "        row_cleaned[\"Memoire_vive_Capacite_totale_(Go)\"] = int(row[\"Memoire_vive_Capacite_totale_(Go)\"].replace(\" Go\", \"\"))\n",
    "    if str(row[\"Stockage_Capacite_disque_dur_(Go)\"]) != \"nan\" and \"To\" in row[\"Stockage_Capacite_disque_dur_(Go)\"]:\n",
    "        row_cleaned[\"Stockage_Capacite_disque_dur_(Go)\"] = float(row[\"Stockage_Capacite_disque_dur_(Go)\"].replace(\" To\", \"\").replace(\",\", \".\")) * 1000\n",
    "    elif str(row[\"Stockage_Capacite_disque_dur_(Go)\"]) != \"nan\":\n",
    "        row_cleaned[\"Stockage_Capacite_disque_dur_(Go)\"] = float(row[\"Stockage_Capacite_disque_dur_(Go)\"].replace(\" Go\", \"\").replace(\",\", \".\"))\n",
    "    if str(row[\"Stockage_Vitesse_rotation(tours/min)\"]) not in [\"nan\", \"Non communiqué\"]:\n",
    "        row_cleaned[\"Stockage_Vitesse_rotation(tours/min)\"] = int(row[\"Stockage_Vitesse_rotation(tours/min)\"].replace(\" tours/min\", \"\"))\n",
    "    elif str(row[\"Stockage_Vitesse_rotation(tours/min)\"]) == \"Non communiqué\":\n",
    "        row_cleaned[\"Stockage_Vitesse_rotation(tours/min)\"] = np.nan\n",
    "    if str(row[\"Stockage_Capacite_SSD_(Go)\"]) != \"nan\" and \"To\" in row[\"Stockage_Capacite_SSD_(Go)\"]:\n",
    "        row_cleaned[\"Stockage_Capacite_SSD_(Go)\"] = float(row[\"Stockage_Capacite_SSD_(Go)\"].replace(\" To\", \"\").replace(\",\", \".\")) * 1000\n",
    "    elif str(row[\"Stockage_Capacite_SSD_(Go)\"]) != \"nan\":\n",
    "        row_cleaned[\"Stockage_Capacite_SSD_(Go)\"] = float(row[\"Stockage_Capacite_SSD_(Go)\"].replace(\" Go\", \"\").replace(\",\", \".\"))  \n",
    "    if str(row[\"Dimensions_l_x_h_x_p_(cm)\"]) != \"nan\":\n",
    "        row_cleaned[\"Dimensions_l_x_h_x_p_(cm)\"] = row[\"Dimensions_l_x_h_x_p_(cm)\"].replace(\" cm\", \"\")\n",
    "    if \"kg\" in row[\"Dimensions_Poids_(g)\"]:\n",
    "        row_cleaned[\"Dimensions_Poids_(g)\"] = float(row[\"Dimensions_Poids_(g)\"].replace(\" kg\", \"\").replace(\",\", \".\")) * 1000\n",
    "    else:\n",
    "        row_cleaned[\"Dimensions_Poids_(g)\"] = float(row[\"Dimensions_Poids_(g)\"].replace(\" g\", \"\").replace(\",\", \".\"))\n",
    "    return row_cleaned\n",
    "\n",
    "df_cleaned = df_rename.apply(clean_data, axis=1)\n",
    "df_cleaned"
   ]
  },
  {
   "cell_type": "markdown",
   "metadata": {},
   "source": [
    "On converti le dataframe en fichier csv"
   ]
  },
  {
   "cell_type": "code",
   "execution_count": null,
   "metadata": {},
   "outputs": [],
   "source": [
    "df_cleaned.to_csv(path_or_buf = \"boulanger_scrapping.csv\", index=False)"
   ]
  },
  {
   "cell_type": "markdown",
   "metadata": {},
   "source": [
    "On peut vérifier qu'on a bien enregistré le fichier csv en l'ouvrant"
   ]
  },
  {
   "cell_type": "code",
   "execution_count": null,
   "metadata": {
    "scrolled": false
   },
   "outputs": [],
   "source": [
    "test = pd.read_csv(\"boulanger_scrapping.csv\")\n",
    "test"
   ]
  },
  {
   "cell_type": "markdown",
   "metadata": {},
   "source": [
    "le code ci dessous réunit tout dans une fonction, il y a quatres paramètres:\n",
    "- nb_page : le nombre de page a scrapper\n",
    "- file_name : le nom du fichier csv\n",
    "- page_num : la page où on commence à scrapper (utile si on veut reprendre après un plantage du code)\n",
    "- article_num : le numéro de l'article où on commence à scrapper (utile si on veut reprendre après un plantage du code)"
   ]
  },
  {
   "cell_type": "code",
   "execution_count": null,
   "metadata": {},
   "outputs": [],
   "source": [
    "from selenium import webdriver\n",
    "from selenium.webdriver.common.keys import Keys\n",
    "from selenium.webdriver.common.action_chains import ActionChains\n",
    "import re\n",
    "import numpy as np\n",
    "import pandas as pd\n",
    "import time\n",
    "\n",
    "def generate_number_delay():\n",
    "    \"\"\"\n",
    "    Retourne un chiffre aléatoire suivant une distribution normal de moyenne 4 secondes et d'ecart-type de 0.8\n",
    "    Ce chiffre aléatoire est le délai après chaque clic. Le but est de simuler le comportement d'un humain :\n",
    "    un délai fixe peut attirer l'attention des contrôleurs, tout comme un délai aléatoire d'une distribution uniforme\n",
    "    \"\"\"\n",
    "    mean = 4\n",
    "    sigma = 0.8\n",
    "    delai = np.random.normal(mean,sigma,1)[0]\n",
    "    while delai < 0:\n",
    "        delai = np.random.normal(mean,sigma,1)[0]\n",
    "    time.sleep(delai)\n",
    "\n",
    "def clean_data(row):\n",
    "    row_cleaned = row\n",
    "    if str(row[\"Moniteur_Taille_ecran_(pouces)\"]) != \"nan\":\n",
    "        value = str(row[\"Moniteur_Taille_ecran_(pouces)\"]).replace(\" pouces\", \"\").replace(\",\", \".\")\n",
    "        row_cleaned[\"Moniteur_Taille_ecran_(pouces)\"] = float(value)\n",
    "    if str(row[\"Moniteur_Equivalence_(cm)\"]) != \"nan\":\n",
    "        value = str(row[\"Moniteur_Equivalence_(cm)\"]).replace(\" cm\", \"\").replace(\",\", \".\")\n",
    "        row_cleaned[\"Moniteur_Equivalence_(cm)\"] = float(value)\n",
    "    if str(row[\"Moniteur_Resolution_ecran_(pixels)\"]) != \"nan\":\n",
    "        row_cleaned[\"Moniteur_Resolution_ecran_(pixels)\"] = row[\"Moniteur_Resolution_ecran_(pixels)\"].replace(\" pixels\", \"\")\n",
    "    if str(row[\"Logiciels_Version_(Bits)\"]) != \"nan\":\n",
    "        value = str(row[\"Logiciels_Version_(Bits)\"]).replace(\" Bits\", \"\")\n",
    "        row_cleaned[\"Logiciels_Version_(Bits)\"] = int(value)\n",
    "    if str(row[\"Memoire_vive_Capacite_totale_(Go)\"]) != \"nan\":\n",
    "        value = str(row[\"Memoire_vive_Capacite_totale_(Go)\"]).replace(\" Go\", \"\")\n",
    "        row_cleaned[\"Memoire_vive_Capacite_totale_(Go)\"] = int(value)\n",
    "    if str(row[\"Stockage_Capacite_disque_dur_(Go)\"]) != \"nan\" and \"To\" in str(row[\"Stockage_Capacite_disque_dur_(Go)\"]):\n",
    "        value = str(row[\"Stockage_Capacite_disque_dur_(Go)\"]).replace(\" To\", \"\").replace(\",\", \".\")\n",
    "        row_cleaned[\"Stockage_Capacite_disque_dur_(Go)\"] = float(value) * 1000\n",
    "    elif str(row[\"Stockage_Capacite_disque_dur_(Go)\"]) != \"nan\":\n",
    "        value = str(row[\"Stockage_Capacite_disque_dur_(Go)\"]).replace(\" Go\", \"\").replace(\",\", \".\")\n",
    "        row_cleaned[\"Stockage_Capacite_disque_dur_(Go)\"] = float(value)\n",
    "    if str(row[\"Stockage_Vitesse_rotation(tours/min)\"]) not in [\"nan\", \"Non communiqué\"]:\n",
    "        value = str(row[\"Stockage_Vitesse_rotation(tours/min)\"]).replace(\" tours/min\", \"\")\n",
    "        row_cleaned[\"Stockage_Vitesse_rotation(tours/min)\"] = int(value)\n",
    "    elif str(row[\"Stockage_Vitesse_rotation(tours/min)\"]) == \"Non communiqué\":\n",
    "        row_cleaned[\"Stockage_Vitesse_rotation(tours/min)\"] = np.nan\n",
    "    if str(row[\"Stockage_Capacite_SSD_(Go)\"]) != \"nan\" and \"To\" in str(row[\"Stockage_Capacite_SSD_(Go)\"]):\n",
    "        value = str(row[\"Stockage_Capacite_SSD_(Go)\"]).replace(\" To\", \"\").replace(\",\", \".\")\n",
    "        row_cleaned[\"Stockage_Capacite_SSD_(Go)\"] = float(value) * 1000\n",
    "    elif str(row[\"Stockage_Capacite_SSD_(Go)\"]) != \"nan\":\n",
    "        value = str(row[\"Stockage_Capacite_SSD_(Go)\"]).replace(\" Go\", \"\").replace(\",\", \".\")  \n",
    "        row_cleaned[\"Stockage_Capacite_SSD_(Go)\"] = float(value)  \n",
    "    if str(row[\"Dimensions_l_x_h_x_p_(cm)\"]) != \"nan\":\n",
    "        row_cleaned[\"Dimensions_l_x_h_x_p_(cm)\"] = row[\"Dimensions_l_x_h_x_p_(cm)\"].replace(\" cm\", \"\")\n",
    "    if \"kg\" in str(row[\"Dimensions_Poids_(g)\"]):\n",
    "        value = str(row[\"Dimensions_Poids_(g)\"]).replace(\" kg\", \"\").replace(\",\", \".\")\n",
    "        row_cleaned[\"Dimensions_Poids_(g)\"] = float(value) * 1000\n",
    "    else:\n",
    "        value = str(row[\"Dimensions_Poids_(g)\"]).replace(\" g\", \"\").replace(\",\", \".\")\n",
    "        row_cleaned[\"Dimensions_Poids_(g)\"] = float(value)\n",
    "    return row_cleaned\n",
    "\n",
    "def scrap_data(nb_page = 10, file_name = \"boulanger_scrapping.csv\", page_num = 1, article_num = 0):\n",
    "    \n",
    "    browser = webdriver.Chrome()\n",
    "    if page_num == 1:\n",
    "        browser.get('https://www.boulanger.com/')\n",
    "        browser.maximize_window()\n",
    "        \n",
    "        search_input = browser.find_element_by_xpath('//*[@id=\"o-header_search_id\"]')\n",
    "        search_input.send_keys(\"ordinateur portable\")\n",
    "        search_button = browser.find_element_by_xpath('//*[@id=\"container\"]/header/section[2]/div[1]/section/form/p/button')\n",
    "        search_button.click()\n",
    "        generate_number_delay()\n",
    "        filtre_i7 = browser.find_element_by_xpath('//*[@id=\"multi_facet_points_comparateurs_____processeur_3\"]/span[1]')\n",
    "        filtre_i7.click()\n",
    "        generate_number_delay()\n",
    "    else:\n",
    "        browser.get('https://www.boulanger.com/c/tous-les-ordinateurs-portables/points_comparateurs_____processeur~intel20core20i7?numPage={}'.format(page_num))\n",
    "        browser.maximize_window()\n",
    "    \n",
    "    characteristics_list = [\"Moniteur_Taille de l'écran\", \"Moniteur_Equivalence\", \"Moniteur_Résolution de l'écran\", \"Logiciels_Système d'exploitation\", \"Logiciels_Version\", \"Processeur_Référence et spécificités\", \"Mémoire vive_Capacité totale\", \"Mémoire vive_Type\", \"Stockage_Capacité du disque dur\", \"Stockage_Port du disque dur\", \"Stockage_Vitesse de rotation\", \"Stockage_Capacité du SSD\", \"Stockage_Port du SSD\", \"Dimensions_Dimensions l x h x p\", \"Dimensions_Poids\", \"Carte vidéo_Carte\"]\n",
    "    dico = {}\n",
    "    dico[\"Titre\"] = []\n",
    "    dico[\"Note\"] = []\n",
    "    dico[\"Prix\"] = []\n",
    "    for characteristic in characteristics_list:\n",
    "        dico[characteristic] = []\n",
    "    page = 0\n",
    "    next_page_class_list = browser.find_element_by_class_name(\"navPage-right\").get_attribute(\"class\").split()\n",
    "    while page < nb_page and \"navPage-inactive\" not in next_page_class_list:\n",
    "        liste_desc_pc = browser.find_elements_by_css_selector('div.designations h2 a')\n",
    "        if article_num != 0:\n",
    "            i = article_num\n",
    "            browser.execute_script(\"arguments[0].scrollIntoView();\", liste_desc_pc[i])\n",
    "            article_num = 0\n",
    "        else:\n",
    "            i = 0\n",
    "        while i < len(liste_desc_pc):\n",
    "            title = liste_desc_pc[i].text\n",
    "            dico[\"Titre\"].append(title)\n",
    "            liste_desc_pc[i].click()\n",
    "            generate_number_delay()\n",
    "            try:\n",
    "                rating = int(browser.find_element_by_class_name(\"rating\").get_attribute(\"class\").split()[2].split('_')[1]) * 0.1\n",
    "            except:\n",
    "                rating = np.nan\n",
    "            dico[\"Note\"].append(rating)\n",
    "            price = float(browser.find_element_by_class_name(\"fix-price\").text.split()[0].replace('€', '.'))\n",
    "            dico[\"Prix\"].append(price)\n",
    "            more = browser.find_element_by_class_name(\"more\")\n",
    "            more.click()\n",
    "            generate_number_delay()\n",
    "            characteristics = browser.find_element_by_class_name('characteristic').text\n",
    "            feature = \"\"\n",
    "            c_list = characteristics_list.copy()\n",
    "            for characteristic in characteristics.split(\"\\n\"):\n",
    "                characteristic = re.sub(' \\(.+\\)', '', characteristic)\n",
    "                if \":\" not in characteristic:\n",
    "                    feature = characteristic\n",
    "                else :\n",
    "                    key = (feature + \"_\" + characteristic).split(\":\")[0].strip()\n",
    "                    value = (feature + \"_\" + characteristic).split(\":\")[1].strip()\n",
    "                    if (key in c_list):\n",
    "                        dico[key].append(value)\n",
    "                        c_list.remove(key)\n",
    "            for c in c_list:\n",
    "                dico[c].append(np.nan)\n",
    "                \n",
    "            browser.back()\n",
    "\n",
    "            df = pd.DataFrame(dico)\n",
    "            df_rename = df.rename(index=str, columns={\"Moniteur_Taille de l'écran\" : \"Moniteur_Taille_ecran_(pouces)\", \\\n",
    "                                        \"Moniteur_Equivalence\" : \"Moniteur_Equivalence_(cm)\", \\\n",
    "                                        \"Moniteur_Résolution de l'écran\" : \"Moniteur_Resolution_ecran_(pixels)\", \\\n",
    "                                        \"Logiciels_Système d'exploitation\" : \"Logiciels_Systeme_exploitation\", \\\n",
    "                                        \"Logiciels_Version\" : \"Logiciels_Version_(Bits)\", \\\n",
    "                                        \"Processeur_Référence et spécificités\" : \"Processeur_Reference\", \\\n",
    "                                        \"Mémoire vive_Capacité totale\" : \"Memoire_vive_Capacite_totale_(Go)\", \\\n",
    "                                        \"Mémoire vive_Type\" : \"Memoire_vive_Type\", \\\n",
    "                                        \"Stockage_Capacité du disque dur\" : \"Stockage_Capacite_disque_dur_(Go)\", \\\n",
    "                                        \"Stockage_Port du disque dur\" : \"Stockage_Port_disque_dur\", \\\n",
    "                                        \"Stockage_Vitesse de rotation\" : \"Stockage_Vitesse_rotation(tours/min)\", \\\n",
    "                                        \"Stockage_Capacité du SSD\" : \"Stockage_Capacite_SSD_(Go)\", \\\n",
    "                                        \"Stockage_Port du SSD\" : \"Stockage_Port_SSD\", \\\n",
    "                                        \"Dimensions_Dimensions l x h x p\" : \"Dimensions_l_x_h_x_p_(cm)\", \\\n",
    "                                        \"Dimensions_Poids\" : \"Dimensions_Poids_(g)\", \\\n",
    "                                        \"Carte vidéo_Carte\" : \"Carte_video\"})\n",
    "            df_cleaned = df_rename.apply(clean_data, axis=1)\n",
    "            df_cleaned.to_csv(path_or_buf = file_name, index=False)\n",
    "            liste_desc_pc = browser.find_elements_by_css_selector('div.designations h2 a')\n",
    "            i += 1\n",
    "        page += 1\n",
    "        next_page = browser.find_element_by_class_name(\"navPage-right\")\n",
    "        next_page_class_list = next_page.get_attribute(\"class\").split()\n",
    "        next_page.click()\n",
    "        generate_number_delay()\n",
    "    browser.close()\n",
    "\n",
    "scrap_data()\n",
    "# scrap_data(file_name = \"boulanger_scrapping_after_timeout2.csv\", page_num = 4, article_num = 12)"
   ]
  },
  {
   "cell_type": "code",
   "execution_count": null,
   "metadata": {},
   "outputs": [],
   "source": [
    "data = pd.read_csv(\"boulanger_scrapping.csv\")\n",
    "data"
   ]
  }
 ],
 "metadata": {
  "kernelspec": {
   "display_name": "Python 3",
   "language": "python",
   "name": "python3"
  },
  "language_info": {
   "codemirror_mode": {
    "name": "ipython",
    "version": 3
   },
   "file_extension": ".py",
   "mimetype": "text/x-python",
   "name": "python",
   "nbconvert_exporter": "python",
   "pygments_lexer": "ipython3",
   "version": "3.7.3"
  }
 },
 "nbformat": 4,
 "nbformat_minor": 2
}
